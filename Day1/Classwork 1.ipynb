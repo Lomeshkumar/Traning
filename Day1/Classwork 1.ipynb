{
 "cells": [
  {
   "cell_type": "code",
   "execution_count": 2,
   "metadata": {},
   "outputs": [
    {
     "name": "stdout",
     "output_type": "stream",
     "text": [
      "[2, 4, 8, 10, 14, 16, 20, 22, 26, 28, 32, 34, 38, 40, 44]\n"
     ]
    }
   ],
   "source": [
    "#########Question 1\n",
    "a=[]\n",
    "for i in range(100):\n",
    "    if(i%2==0 and i%6!=0):\n",
    "        a.append(i)\n",
    "    if(len(a)==15):\n",
    "        break\n",
    "print(a)"
   ]
  },
  {
   "cell_type": "code",
   "execution_count": 10,
   "metadata": {},
   "outputs": [
    {
     "name": "stdout",
     "output_type": "stream",
     "text": [
      "The strings aren't anagrams.\n"
     ]
    }
   ],
   "source": [
    "#########Question 2\n",
    "def Tiko(a,b): \n",
    "    if(sorted(a)== sorted(b)): \n",
    "        print(\"The strings are anagrams.\")  \n",
    "    else: \n",
    "        print(\"The strings aren't anagrams.\")          \n",
    "          \n",
    "  \n",
    "s1 =\"Diya\"\n",
    "s2 =\"aiya\" \n",
    "Tiko(s1, s2) "
   ]
  },
  {
   "cell_type": "code",
   "execution_count": 3,
   "metadata": {},
   "outputs": [
    {
     "name": "stdout",
     "output_type": "stream",
     "text": [
      "Enter Stringhelllo\n",
      "HELLLO\n"
     ]
    }
   ],
   "source": [
    "class tiko:\n",
    "    @classmethod\n",
    "    def getprint(cls):\n",
    "        cls.a=input(\"Enter String\")\n",
    "    @classmethod\n",
    "    def printstring(cls):\n",
    "        print(cls.a.upper())\n",
    "tiko.getprint()\n",
    "tiko.printstring()\n",
    "        "
   ]
  },
  {
   "cell_type": "code",
   "execution_count": null,
   "metadata": {},
   "outputs": [],
   "source": []
  }
 ],
 "metadata": {
  "kernelspec": {
   "display_name": "Python 3",
   "language": "python",
   "name": "python3"
  },
  "language_info": {
   "codemirror_mode": {
    "name": "ipython",
    "version": 3
   },
   "file_extension": ".py",
   "mimetype": "text/x-python",
   "name": "python",
   "nbconvert_exporter": "python",
   "pygments_lexer": "ipython3",
   "version": "3.7.4"
  }
 },
 "nbformat": 4,
 "nbformat_minor": 2
}
